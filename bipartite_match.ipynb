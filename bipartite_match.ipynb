{
 "cells": [
  {
   "cell_type": "markdown",
   "metadata": {},
   "source": [
    "# For bipartite matching,\n",
    "the construction is to introduce source-\n",
    "and sink nodes to the bipartite graph G(V,E)\n",
    "call ford-fulkerson on a new graph G'(V', E')\n",
    "where we mark source node by index 0 and sink (V+1).\n",
    "Every internal node on the left, X, has an edge of weight 1 to the sink s;\n",
    "every internal node on the right, Y, has an edge of weight 1 to the sink t;\n",
    "the original edges E remains, each assigned with weight 1.\n",
    "We will have the perfect matching \n",
    "if ford-fulkerson returns a valid max flow value and every vertex is visited\n",
    "if not we will determine the size of the largest bipartite matching."
   ]
  },
  {
   "cell_type": "code",
   "execution_count": 18,
   "metadata": {
    "collapsed": true
   },
   "outputs": [],
   "source": [
    "# Deal with the data storage\n",
    "\n",
    "V = 200\n",
    "src = 0\n",
    "sink = V+1\n",
    "Vp = V+2 # V' as V prime\n",
    "\n",
    "graph = [[0 for col in range(Vp)] for row in range(Vp)]\n",
    "\n",
    "import string\n",
    "def readFileToArray( filename ):\n",
    "    arr = [] # List of rankings\n",
    "    with open( filename ) as file:\n",
    "        for List in file:\n",
    "            tmp = List.strip(string.whitespace)\n",
    "            arr.append(tmp)\n",
    "    file.close()\n",
    "    return arr\n",
    "\n",
    "\n",
    "edge = readFileToArray('hw5test.txt')\n",
    "\n",
    "# assign the correspding edge weight to 1 in our adjacency list\n",
    "for i in range(len(edge)):\n",
    "    idx0 = int(edge[i].split(' ')[0])\n",
    "    idx1 = int(edge[i].split(' ')[1])\n",
    "    graph[idx0][idx1] = 1\n",
    "\n",
    "for i in range(1,101):\n",
    "    graph[0][i] = 1 # each node in X are connected to source\n",
    "    graph[i+100][201] = 1"
   ]
  },
  {
   "cell_type": "code",
   "execution_count": 19,
   "metadata": {
    "collapsed": false
   },
   "outputs": [
    {
     "data": {
      "text/plain": [
       "[0, 1, 1, 1, 1, 1, 1, 1, 1, 1]"
      ]
     },
     "execution_count": 19,
     "metadata": {},
     "output_type": "execute_result"
    }
   ],
   "source": [
    "graph[0][0:10]"
   ]
  },
  {
   "cell_type": "markdown",
   "metadata": {},
   "source": [
    "# Ford-Fulkerson algorithm using BFS\n",
    "For this part, I collaborated with \n",
    "Jin Yue, Xiang Li, Jingjing Zhu and Yanjia Zhang\n",
    "since this is the main algorithm of our course project- \n",
    "Image Segmentation- for which we have submitted earlier\n",
    "a similar version of this implementation.\n",
    "The following is my implementation for this homework 5.1"
   ]
  },
  {
   "cell_type": "code",
   "execution_count": 1,
   "metadata": {
    "collapsed": false
   },
   "outputs": [],
   "source": [
    "def ford_fulkerson(graph, s, t, V):\n",
    "    # Input graph stored in adjacency list, for example,\n",
    "    # graph = [[0, 1, 1, 0], \n",
    "    #          [0, 0, 1, 1],\n",
    "    #          [0, 0, 0, 1], \n",
    "    #          [0, 0, 0, 0]]\n",
    "    # in this case, we have four vertices: source, two internal nodes and sink.\n",
    "    # The first row corresponds to the edges starting from the source node s, e.g. there are two edges of weight 1: \n",
    "    # from s to node 1 and from s to node 2\n",
    "    # both node 1 and 2 has an edge to the sink node t\n",
    "    \n",
    "    # V is the dimension of our adjacency list\n",
    "    \n",
    "    max_flow = 0  \n",
    "    \n",
    "    rgraph = [[0 for col in range(V)] for row in range(V)]  \n",
    "    # initialize residual graph\n",
    "    for i in range(V):\n",
    "        for j in range(V):\n",
    "            rgraph[i][j] = graph[i][j]\n",
    "\n",
    "    parent = [0 for i in range(V)]\n",
    "    \n",
    "    # finding s-t augmenting paths in the residual graph\n",
    "    \n",
    "    while bfs(rgraph, s, t, parent, V):  \n",
    "        # initial flow we now recursively search from sink \n",
    "        # and calculate bottleneck\n",
    "        flow = float(\"inf\")  \n",
    "        v = t \n",
    "        while v != s:  \n",
    "            u = parent[v]\n",
    "            flow = min(flow, rgraph[u][v])\n",
    "            v = parent[v]\n",
    "        bottleneck = flow\n",
    "        v = t\n",
    "        while v != s:  \n",
    "            u = parent[v]\n",
    "            \n",
    "            rgraph[v][u] += bottleneck\n",
    "            # forward edge\n",
    "            rgraph[u][v] -= bottleneck  \n",
    "            # backward edge\n",
    "            v = parent[v]\n",
    "\n",
    "        max_flow += bottleneck  # get the total values of flows\n",
    "\n",
    "    # get all nodes that are visited\n",
    "    parent = [0 for i in range(V)]\n",
    "    visited = bfs2(rgraph, s, parent, V)\n",
    "    print \"The total values of flows is: %d\" % max_flow\n",
    "    return visited\n",
    "\n",
    "# determine if there is a path using BFS\n",
    "# return True or False, boolen value\n",
    "def bfs(rgraph, s, t, parent, V):\n",
    "    # create a list to store visited nodes\n",
    "    # initialize to False \n",
    "    visited = [False for i in range(V)]  \n",
    "    visited[s] = True  \n",
    "    # parent remembers the start node of each edge\n",
    "    parent[s] = -1 \n",
    "    \n",
    "    q = list()  \n",
    "    q.insert(0, s)  \n",
    "    \n",
    "    # standard bfs\n",
    "    while len(q) != 0:  \n",
    "        row = q.pop()  \n",
    "        for i in range(V): \n",
    "            if not visited[i] and rgraph[row][i] > 0:\n",
    "                q.insert(0, i)  \n",
    "                parent[i] = row  \n",
    "                # mark its parent as the current row node\n",
    "                visited[i] = True  \n",
    "                # mark the node as visited\n",
    "    return visited[t]  \n",
    "\n",
    "\n",
    "# bfs2: exactly the same as bfs\n",
    "# except that we now return \n",
    "# the complete array of the visited nodes \n",
    "def bfs2(rgraph, s, parent, V):\n",
    "    \n",
    "    visited = [False for i in range(V)]  \n",
    "    visited[s] = True  \n",
    "    parent[s] = -1  \n",
    "    q = list()  \n",
    "    q.insert(0, s)  \n",
    "    while len(q) != 0:  \n",
    "        row = q.pop()  \n",
    "        for i in range(V):  \n",
    "            \n",
    "            if not visited[i] and rgraph[row][i] > 0:\n",
    "                q.insert(0, i)  \n",
    "                parent[i] = row  \n",
    "                visited[i] = True  \n",
    "    return visited  "
   ]
  },
  {
   "cell_type": "code",
   "execution_count": 21,
   "metadata": {
    "collapsed": false
   },
   "outputs": [
    {
     "name": "stdout",
     "output_type": "stream",
     "text": [
      "The total values of flows is: 3\n"
     ]
    }
   ],
   "source": [
    "\n",
    "# sample small dataset borrowed from CLRS book 286.8(C) to validate my algorithm\n",
    "sample_V = 11\n",
    "sample_src = 0\n",
    "sample_sink = 10\n",
    "sample_graph = [[0, 1, 1, 1, 1, 1, 0, 0, 0, 0, 0],\n",
    "         [0, 0, 0, 0, 0, 0, 1, 0, 0, 0, 0],\n",
    "         [0, 0, 0, 0, 0, 0, 1, 0, 1, 0, 0],\n",
    "         [0, 0, 0, 0, 0, 0, 0, 1, 1, 1, 0],\n",
    "         [0, 0, 0, 0, 0, 0, 0, 0, 1, 0, 0],\n",
    "         [0, 0, 0, 0, 0, 0, 0, 0, 1, 0, 0],\n",
    "         [0, 0, 0, 0, 0, 0, 0, 0, 0, 0, 1],\n",
    "         [0, 0, 0, 0, 0, 0, 0, 0, 0, 0, 1],\n",
    "         [0, 0, 0, 0, 0, 0, 0, 0, 0, 0, 1],\n",
    "         [0, 0, 0, 0, 0, 0, 0, 0, 0, 0, 1],\n",
    "         [0, 0, 0, 0, 0, 0, 0, 0, 0, 0, 0]]\n",
    "\n",
    "match = ford_fulkerson(sample_graph, sample_src, sample_sink, sample_V) # test out to be 3, as was shown in the book"
   ]
  },
  {
   "cell_type": "code",
   "execution_count": 22,
   "metadata": {
    "collapsed": false
   },
   "outputs": [
    {
     "name": "stdout",
     "output_type": "stream",
     "text": [
      "The total values of flows is: 99\n",
      "Vertices not being visited:\n",
      "1\n",
      "4\n",
      "8\n",
      "13\n",
      "21\n",
      "23\n",
      "38\n",
      "39\n",
      "41\n",
      "47\n",
      "75\n",
      "78\n",
      "92\n",
      "99\n",
      "119\n",
      "123\n",
      "124\n",
      "130\n",
      "133\n",
      "137\n",
      "140\n",
      "158\n",
      "160\n",
      "170\n",
      "171\n",
      "174\n",
      "176\n",
      "185\n",
      "197\n"
     ]
    }
   ],
   "source": [
    "match = ford_fulkerson(graph, src, sink, Vp)\n",
    "# print those vertices who are not being visited\n",
    "print \"Vertices not being visited:\"\n",
    "for i in range(1,V+1):\n",
    "    if not match[i]:\n",
    "        print i"
   ]
  },
  {
   "cell_type": "code",
   "execution_count": 2,
   "metadata": {
    "collapsed": false
   },
   "outputs": [
    {
     "name": "stdout",
     "output_type": "stream",
     "text": [
      "The total values of flows is: 99\n"
     ]
    }
   ],
   "source": [
    "V = 10\n",
    "src = 0 \n",
    "sink = 9\n",
    "# I take the liberty to set \"transfusion\" edges to 200\n",
    "# (instead of infinity, e.g. there is no much constraint for one \n",
    "# to send flows from supply side to demand side) \n",
    "# as it would be the easier way\n",
    "graph = [[0, 36, 11, 8, 50, 0, 0, 0, 0, 0],\n",
    "        [0, 0, 0, 0, 0, 200, 0, 200, 0, 0],\n",
    "        [0, 0, 0, 0, 0, 0, 200, 200, 0, 0],\n",
    "        [0, 0, 0, 0, 0, 0, 0, 200, 0, 0],\n",
    "        [0, 0, 0, 0, 0, 200, 200, 200, 200, 0],\n",
    "        [0, 0, 0, 0, 0, 0, 0, 0, 0, 42],\n",
    "        [0, 0, 0, 0, 0, 0, 0, 0, 0, 10],\n",
    "        [0, 0, 0, 0, 0, 0, 0, 0, 0, 3],\n",
    "        [0, 0, 0, 0, 0, 0, 0, 0, 0, 45],\n",
    "        [0, 0, 0, 0, 0, 0, 0, 0, 0, 0]]\n",
    "flow = ford_fulkerson(graph, src, sink, V)"
   ]
  },
  {
   "cell_type": "code",
   "execution_count": null,
   "metadata": {
    "collapsed": true
   },
   "outputs": [],
   "source": []
  }
 ],
 "metadata": {
  "kernelspec": {
   "display_name": "Python 2",
   "language": "python",
   "name": "python2"
  },
  "language_info": {
   "codemirror_mode": {
    "name": "ipython",
    "version": 2
   },
   "file_extension": ".py",
   "mimetype": "text/x-python",
   "name": "python",
   "nbconvert_exporter": "python",
   "pygments_lexer": "ipython2",
   "version": "2.7.11"
  }
 },
 "nbformat": 4,
 "nbformat_minor": 1
}
